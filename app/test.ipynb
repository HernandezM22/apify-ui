{
 "cells": [
  {
   "cell_type": "code",
   "execution_count": 1,
   "metadata": {},
   "outputs": [],
   "source": [
    "import streamlit as st\n",
    "from core.settings import settings\n",
    "import pandas as pd\n",
    "import src.apify_functions as apify"
   ]
  },
  {
   "cell_type": "code",
   "execution_count": 2,
   "metadata": {},
   "outputs": [],
   "source": [
    "def query_airbnbs(client, run_input):\n",
    "    actor = client.actor(\"dtrungtin/airbnb-scraper\")\n",
    "    run = actor.call(run_input=run_input)\n",
    "    print(\"--- Run succeeded ---\")\n",
    "    unpackaged = actor.last_run(status='SUCCEEDED')\n",
    "    unpackaged_json = unpackaged.dataset().list_items().items\n",
    "    print(\"--- Results retrieved ---\")\n",
    "\n",
    "    parsed = []\n",
    "\n",
    "    for item in unpackaged_json:\n",
    "        values = []\n",
    "\n",
    "        values.append(item[\"url\"])\n",
    "        values.append(item[\"name\"])\n",
    "\n",
    "        try:\n",
    "            values.append(item[\"stars\"])\n",
    "        except KeyError:\n",
    "            values.append(\"no_stars\")\n",
    "\n",
    "        values.append(item[\"numberOfGuests\"])\n",
    "        values.append(item[\"address\"])\n",
    "        values.append(item[\"roomType\"])\n",
    "        values.append(item[\"location\"])\n",
    "        values.append(item[\"pricing\"])\n",
    "        values.append(len(item[\"reviews\"]))\n",
    "\n",
    "        parsed.append(values)\n",
    "\n",
    "\n",
    "    df = pd.DataFrame(parsed, columns=[\"url\", \"name\", \"stars\", \"n_guests\", \"address\", \"roomType\", \"location\", \"pricing\", \"reviews\"])\n",
    "    print(\"--- Results parsed ---\")\n",
    "\n",
    "    return df"
   ]
  },
  {
   "cell_type": "code",
   "execution_count": 3,
   "metadata": {},
   "outputs": [],
   "source": [
    "client = apify.authenticate_apify(\n",
    "    token=settings.APIFY_API_KEY\n",
    ")"
   ]
  },
  {
   "cell_type": "code",
   "execution_count": 4,
   "metadata": {},
   "outputs": [],
   "source": [
    "run_input = {\n",
    "    \"locationQuery\": \"Monterrey, \",\n",
    "    \"maxListings\": 10,\n",
    "    \"includeReviews\": True,\n",
    "    \"maxReviews\": 10,\n",
    "    \"startUrls\": [],\n",
    "    \"calendarMonths\": 0,\n",
    "    \"currency\": \"MXN\",\n",
    "    \"proxyConfiguration\": { \"useApifyProxy\": True },\n",
    "    \"maxConcurrency\": 50,\n",
    "    \"limitPoints\": 100,\n",
    "    \"timeoutMs\": 60000,\n",
    "}"
   ]
  },
  {
   "cell_type": "code",
   "execution_count": 5,
   "metadata": {},
   "outputs": [
    {
     "name": "stderr",
     "output_type": "stream",
     "text": [
      "2023-06-11 14:40:31.571 INFO    httpx: HTTP Request: POST https://api.apify.com/v2/acts/dtrungtin~airbnb-scraper/runs \"HTTP/1.1 201 Created\"\n",
      "2023-06-11 14:40:32.640 INFO    httpx: HTTP Request: GET https://api.apify.com/v2/actor-runs/D88jy3rvHn8QvDqUQ?waitForFinish=999999 \"HTTP/1.1 200 OK\"\n"
     ]
    }
   ],
   "source": [
    "df = query_airbnbs(client=client, run_input=run_input)"
   ]
  },
  {
   "cell_type": "code",
   "execution_count": null,
   "metadata": {},
   "outputs": [],
   "source": []
  }
 ],
 "metadata": {
  "kernelspec": {
   "display_name": "Python 3",
   "language": "python",
   "name": "python3"
  },
  "language_info": {
   "codemirror_mode": {
    "name": "ipython",
    "version": 3
   },
   "file_extension": ".py",
   "mimetype": "text/x-python",
   "name": "python",
   "nbconvert_exporter": "python",
   "pygments_lexer": "ipython3",
   "version": "3.11.2"
  },
  "orig_nbformat": 4
 },
 "nbformat": 4,
 "nbformat_minor": 2
}
